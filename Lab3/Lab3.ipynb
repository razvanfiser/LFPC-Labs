{
 "cells": [
  {
   "cell_type": "code",
   "execution_count": 1,
   "id": "4cfd6ec3",
   "metadata": {},
   "outputs": [],
   "source": [
    "import re"
   ]
  },
  {
   "cell_type": "code",
   "execution_count": 73,
   "id": "210b5f30",
   "metadata": {},
   "outputs": [],
   "source": [
    "code = \"\"\"\n",
    "        int times_zero(int num1, int num2){\n",
    "            return (num1 + num2) * 0;\n",
    "        }\n",
    "        \n",
    "        bool bool_stuff(bool num){\n",
    "            return num and (not num);\n",
    "        }\n",
    "        \n",
    "        int main(){\n",
    "            int num1 = 0;\n",
    "            int num2 = 0;\n",
    "            bool isTrue = False;\n",
    "            bool bool_answ = bool_stuff(isTrue);\n",
    "            int answ = times_zero(num1, num2);\n",
    "        }\n",
    "        \"\"\""
   ]
  },
  {
   "cell_type": "code",
   "execution_count": null,
   "id": "85c5365d",
   "metadata": {},
   "outputs": [],
   "source": []
  },
  {
   "cell_type": "code",
   "execution_count": 92,
   "id": "b5244fba",
   "metadata": {},
   "outputs": [],
   "source": [
    "class Parser():\n",
    "    def __init__(self):\n",
    "        self.code = []\n",
    "        \n",
    "    def read_input(self, code):\n",
    "        code = re.findall('[a-zA-Z0-9_]+|[{}()\\+\\-\\*\\/;]', code)\n",
    "        self.code = code\n",
    "        \n",
    "    def parse(self, string):\n",
    "        letters = \"qwertyuiopasdfghjklzxcvbnmQWERTYUIOPASDFGHJKLZXCVBNM\"\n",
    "        lol = {\n",
    "            \"int\": \"INT_LITERAL\",\n",
    "            \"bool\": \"BOOL_LITERAL\",\n",
    "            \"True\": \"BOOL_TRUE\",\n",
    "            \"False\": \"BOOL_FALSE\",\n",
    "            \"(\" : \"LEFT_RND\",\n",
    "            \")\" : \"RIGHT_RND\",\n",
    "            \"{\" : \"LEFT_CRLY\",\n",
    "            \"}\" : \"RIGHT_CRLY\",\n",
    "            \"not\" : \"NEGATION\",\n",
    "            \"and\" : \"AND\",\n",
    "            \"or\" : \"OR\",\n",
    "            \"+\" : \"PLUS\",\n",
    "            \"-\" : \"MINUS\",\n",
    "            \"*\" : \"TIMES\",\n",
    "            \"/\" : \"DIVIDE_BY\",\n",
    "            \"=\" : \"ASSIGGN\",\n",
    "            \"return\" : \"RETURN\",\n",
    "            \";\" : \"SEMICOLON\"\n",
    "        }\n",
    "        \n",
    "        if (string in lol.keys()):\n",
    "            return [lol[string], string]\n",
    "        else:\n",
    "            for character in string:\n",
    "                if character in letters:\n",
    "                    return [\"IDENTIFIER\", string]\n",
    "        return [\"INTEGER\", string]\n",
    "    \n",
    "    def parse_everything(self):\n",
    "        string_list = self.code\n",
    "        out = []\n",
    "        for string in string_list:\n",
    "            out.append(self.parse(string))\n",
    "        return out "
   ]
  },
  {
   "cell_type": "code",
   "execution_count": 93,
   "id": "ee990604",
   "metadata": {},
   "outputs": [],
   "source": [
    "nigg = Parser()\n",
    "nigg.read_input(code)"
   ]
  },
  {
   "cell_type": "code",
   "execution_count": 94,
   "id": "461aa439",
   "metadata": {},
   "outputs": [
    {
     "data": {
      "text/plain": [
       "[['INT_LITERAL', 'int'],\n",
       " ['IDENTIFIER', 'times_zero'],\n",
       " ['LEFT_RND', '('],\n",
       " ['INT_LITERAL', 'int'],\n",
       " ['IDENTIFIER', 'num1'],\n",
       " ['INT_LITERAL', 'int'],\n",
       " ['IDENTIFIER', 'num2'],\n",
       " ['RIGHT_RND', ')'],\n",
       " ['LEFT_CRLY', '{'],\n",
       " ['RETURN', 'return'],\n",
       " ['LEFT_RND', '('],\n",
       " ['IDENTIFIER', 'num1'],\n",
       " ['PLUS', '+'],\n",
       " ['IDENTIFIER', 'num2'],\n",
       " ['RIGHT_RND', ')'],\n",
       " ['TIMES', '*'],\n",
       " ['INTEGER', '0'],\n",
       " ['SEMICOLON', ';'],\n",
       " ['RIGHT_CRLY', '}'],\n",
       " ['BOOL_LITERAL', 'bool'],\n",
       " ['IDENTIFIER', 'bool_stuff'],\n",
       " ['LEFT_RND', '('],\n",
       " ['BOOL_LITERAL', 'bool'],\n",
       " ['IDENTIFIER', 'num'],\n",
       " ['RIGHT_RND', ')'],\n",
       " ['LEFT_CRLY', '{'],\n",
       " ['RETURN', 'return'],\n",
       " ['IDENTIFIER', 'num'],\n",
       " ['AND', 'and'],\n",
       " ['LEFT_RND', '('],\n",
       " ['NEGATION', 'not'],\n",
       " ['IDENTIFIER', 'num'],\n",
       " ['RIGHT_RND', ')'],\n",
       " ['SEMICOLON', ';'],\n",
       " ['RIGHT_CRLY', '}'],\n",
       " ['INT_LITERAL', 'int'],\n",
       " ['IDENTIFIER', 'main'],\n",
       " ['LEFT_RND', '('],\n",
       " ['RIGHT_RND', ')'],\n",
       " ['LEFT_CRLY', '{'],\n",
       " ['INT_LITERAL', 'int'],\n",
       " ['IDENTIFIER', '1num1'],\n",
       " ['INTEGER', '0'],\n",
       " ['SEMICOLON', ';'],\n",
       " ['INT_LITERAL', 'int'],\n",
       " ['IDENTIFIER', 'num2'],\n",
       " ['INTEGER', '0'],\n",
       " ['SEMICOLON', ';'],\n",
       " ['BOOL_LITERAL', 'bool'],\n",
       " ['IDENTIFIER', 'isTrue'],\n",
       " ['BOOL_FALSE', 'False'],\n",
       " ['SEMICOLON', ';'],\n",
       " ['BOOL_LITERAL', 'bool'],\n",
       " ['IDENTIFIER', 'bool_answ'],\n",
       " ['IDENTIFIER', 'bool_stuff'],\n",
       " ['LEFT_RND', '('],\n",
       " ['IDENTIFIER', 'isTrue'],\n",
       " ['RIGHT_RND', ')'],\n",
       " ['SEMICOLON', ';'],\n",
       " ['INT_LITERAL', 'int'],\n",
       " ['IDENTIFIER', 'answ'],\n",
       " ['IDENTIFIER', 'times_zero'],\n",
       " ['LEFT_RND', '('],\n",
       " ['IDENTIFIER', 'num1'],\n",
       " ['IDENTIFIER', 'num2'],\n",
       " ['RIGHT_RND', ')'],\n",
       " ['SEMICOLON', ';'],\n",
       " ['RIGHT_CRLY', '}']]"
      ]
     },
     "execution_count": 94,
     "metadata": {},
     "output_type": "execute_result"
    }
   ],
   "source": [
    "nigg.parse_everything()"
   ]
  },
  {
   "cell_type": "code",
   "execution_count": 27,
   "id": "ded15b3b",
   "metadata": {},
   "outputs": [
    {
     "ename": "SyntaxError",
     "evalue": "invalid syntax (Temp/ipykernel_73500/1306666858.py, line 2)",
     "output_type": "error",
     "traceback": [
      "\u001b[1;36m  File \u001b[1;32m\"C:\\Users\\razva\\AppData\\Local\\Temp/ipykernel_73500/1306666858.py\"\u001b[1;36m, line \u001b[1;32m2\u001b[0m\n\u001b[1;33m    match nigg:\u001b[0m\n\u001b[1;37m          ^\u001b[0m\n\u001b[1;31mSyntaxError\u001b[0m\u001b[1;31m:\u001b[0m invalid syntax\n"
     ]
    }
   ],
   "source": [
    "nigg = 0\n",
    "match nigg:\n",
    "    case 0:\n",
    "        print(\"nigg\")"
   ]
  },
  {
   "cell_type": "code",
   "execution_count": null,
   "id": "53931687",
   "metadata": {},
   "outputs": [],
   "source": []
  }
 ],
 "metadata": {
  "kernelspec": {
   "display_name": "Python 3 (ipykernel)",
   "language": "python",
   "name": "python3"
  },
  "language_info": {
   "codemirror_mode": {
    "name": "ipython",
    "version": 3
   },
   "file_extension": ".py",
   "mimetype": "text/x-python",
   "name": "python",
   "nbconvert_exporter": "python",
   "pygments_lexer": "ipython3",
   "version": "3.8.8"
  }
 },
 "nbformat": 4,
 "nbformat_minor": 5
}
