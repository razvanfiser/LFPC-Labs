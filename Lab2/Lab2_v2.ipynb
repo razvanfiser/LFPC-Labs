{
 "cells": [
  {
   "cell_type": "code",
   "execution_count": 1,
   "id": "c2c6811b",
   "metadata": {},
   "outputs": [],
   "source": [
    "import re\n",
    "import pandas as pd\n",
    "import numpy as np"
   ]
  },
  {
   "cell_type": "code",
   "execution_count": 2,
   "id": "5b8b3099",
   "metadata": {},
   "outputs": [],
   "source": [
    "inp = \"\"\"Q: q0, q1, q2, q3, q4,\n",
    "         E: a, b, c,\n",
    "         F: q4,\n",
    "         D: {\n",
    "         q0, a, q1,\n",
    "         q1, b, q2,\n",
    "         q2, c, q0,\n",
    "         q1, b, q3,\n",
    "         q3, a, q4,\n",
    "         q3, b, q0\n",
    "         }\n",
    "         \"\"\""
   ]
  },
  {
   "cell_type": "code",
   "execution_count": 252,
   "id": "ab5cd9a4",
   "metadata": {},
   "outputs": [],
   "source": [
    "class FiniteAutomaton():\n",
    "    def __init__(self):\n",
    "        self.Q = []\n",
    "        self.E = []\n",
    "        self.F = []\n",
    "        self.D = []\n",
    "        self.nfa = {}\n",
    "        self.dfa = {}\n",
    "        self.nfa_table = []\n",
    "        self.dfa_table = []\n",
    "    \n",
    "    def read_input(self, inp):\n",
    "#       some clever regex stuff to split the automata into a list of lists of symbols  \n",
    "        lis = re.split(':|\\n', inp)[: -1]\n",
    "        automata = []\n",
    "        for item in lis:\n",
    "            if (len([symbol for symbol in re.split('\\W+', item) if symbol != '']) != 0):\n",
    "                automata += [[symbol for symbol in re.split('\\W+', item) if symbol != '']]\n",
    "        print(automata)\n",
    "        \n",
    "        for i in range(len(automata)):\n",
    "            if automata[i][0] == \"Q\":\n",
    "                self.Q = automata[i + 1]\n",
    "            if automata[i][0] == \"E\":\n",
    "                self.E = automata[i + 1]\n",
    "            if automata[i][0] == \"F\":\n",
    "                self.F = automata[i + 1]\n",
    "            if automata[i][0] == \"D\":\n",
    "                self.D = [automata[j] for j in range(i + 1, i + 1 + len(automata) - 7)]\n",
    "                \n",
    "        for item in self.D:\n",
    "            flag = 1\n",
    "            if item[0] not in self.nfa.keys():\n",
    "                self.nfa[item[0]] = {item[1]: [item[2]]}\n",
    "            else:\n",
    "                for key in self.nfa[item[0]].keys():\n",
    "                    if key == item[1]:\n",
    "                        self.nfa[item[0]][key] += [item[2]]\n",
    "                        flag = 0\n",
    "                if flag == 1:\n",
    "                    self.nfa[item[0]][item[1]] = [item[2]]\n",
    "                    \n",
    "                \n",
    "    \n",
    "    def print_nfa(self):\n",
    "        tabel = np.empty((len(self.Q), len(self.E)))\n",
    "        tabel[:] = np.nan\n",
    "        tabel = pd.DataFrame(tabel, index=self.Q, columns=self.E)\n",
    "\n",
    "        for key in self.nfa.keys():\n",
    "            for inner_key in self.nfa[key].keys():\n",
    "                tabel.loc[key, inner_key] = \"\".join([str(item) for item in self.nfa[key][inner_key]])\n",
    "\n",
    "        tabel = tabel.fillna(\"\")\n",
    "            \n",
    "        self.nfa_table = tabel\n",
    "        print(self.nfa_table)\n",
    "        \n",
    "    def print_dfa(self):\n",
    "        print(self.dfa_table)\n",
    "        \n",
    "    def to_dfa(self):\n",
    "        self.dfa_table = pd.DataFrame(np.empty((1, len(self.E))), index=[\"q0\"], columns=self.E)\n",
    "        self.dfa_table.loc[\"q0\", :] = self.nfa_table.loc[\"q0\", :]\n",
    "        to_visit = [\"q0\"]\n",
    "        self.dfa[\"q0\"] = self.nfa[\"q0\"]\n",
    "        \n",
    "        while True:\n",
    "            try:\n",
    "                for q in to_visit:\n",
    "                    to_visit = []\n",
    "                    for key in self.nfa[q]:\n",
    "                        node_list = self.nfa[q][key]\n",
    "                        node_list_concat = \"\".join([item for item in node_list])\n",
    "                        node_list_set = set(node_list)\n",
    "                        #using sets to make sure qxqy is treated the same as qyqx etc.\n",
    "                        list_index = [set(re.findall(\"q[0-9]+\", index)) for index in self.dfa_table.index]\n",
    "                        if node_list_set not in list_index:\n",
    "                            self.dfa_table.loc[node_list_concat, :] = self.nfa_table.loc[node_list, :].sum()\n",
    "                            to_visit += re.findall(\"q[0-9]+\", node_list_concat)\n",
    "            except:\n",
    "                break"
   ]
  },
  {
   "cell_type": "code",
   "execution_count": 253,
   "id": "10bdbc16",
   "metadata": {},
   "outputs": [
    {
     "name": "stdout",
     "output_type": "stream",
     "text": [
      "[['Q'], ['q0', 'q1', 'q2', 'q3', 'q4'], ['E'], ['a', 'b', 'c'], ['F'], ['q4'], ['D'], ['q0', 'a', 'q1'], ['q1', 'b', 'q2'], ['q2', 'c', 'q0'], ['q1', 'b', 'q3'], ['q3', 'a', 'q4'], ['q3', 'b', 'q0']]\n"
     ]
    }
   ],
   "source": [
    "automaton = FiniteAutomaton()\n",
    "automaton.read_input(inp)"
   ]
  },
  {
   "cell_type": "code",
   "execution_count": 254,
   "id": "caa0d365",
   "metadata": {},
   "outputs": [
    {
     "data": {
      "text/plain": [
       "[['q0', 'a', 'q1'],\n",
       " ['q1', 'b', 'q2'],\n",
       " ['q2', 'c', 'q0'],\n",
       " ['q1', 'b', 'q3'],\n",
       " ['q3', 'a', 'q4'],\n",
       " ['q3', 'b', 'q0']]"
      ]
     },
     "execution_count": 254,
     "metadata": {},
     "output_type": "execute_result"
    }
   ],
   "source": [
    "automaton.D"
   ]
  },
  {
   "cell_type": "code",
   "execution_count": 255,
   "id": "cee11130",
   "metadata": {},
   "outputs": [
    {
     "data": {
      "text/plain": [
       "{'q0': {'a': ['q1']},\n",
       " 'q1': {'b': ['q2', 'q3']},\n",
       " 'q2': {'c': ['q0']},\n",
       " 'q3': {'a': ['q4'], 'b': ['q0']}}"
      ]
     },
     "execution_count": 255,
     "metadata": {},
     "output_type": "execute_result"
    }
   ],
   "source": [
    "automaton.nfa"
   ]
  },
  {
   "cell_type": "code",
   "execution_count": 256,
   "id": "47509a37",
   "metadata": {},
   "outputs": [
    {
     "name": "stdout",
     "output_type": "stream",
     "text": [
      "     a     b   c\n",
      "q0  q1          \n",
      "q1      q2q3    \n",
      "q2            q0\n",
      "q3  q4    q0    \n",
      "q4              \n"
     ]
    }
   ],
   "source": [
    "automaton.print_nfa()"
   ]
  },
  {
   "cell_type": "code",
   "execution_count": 257,
   "id": "36250b02",
   "metadata": {},
   "outputs": [],
   "source": [
    "automaton.to_dfa()"
   ]
  },
  {
   "cell_type": "code",
   "execution_count": 258,
   "id": "fd911e5b",
   "metadata": {},
   "outputs": [
    {
     "name": "stdout",
     "output_type": "stream",
     "text": [
      "       a     b   c\n",
      "q0    q1          \n",
      "q1        q2q3    \n",
      "q2q3  q4    q0  q0\n",
      "q4                \n"
     ]
    }
   ],
   "source": [
    "automaton.print_dfa()"
   ]
  },
  {
   "cell_type": "code",
   "execution_count": null,
   "id": "4fbe23cd",
   "metadata": {},
   "outputs": [],
   "source": []
  }
 ],
 "metadata": {
  "kernelspec": {
   "display_name": "Python 3 (ipykernel)",
   "language": "python",
   "name": "python3"
  },
  "language_info": {
   "codemirror_mode": {
    "name": "ipython",
    "version": 3
   },
   "file_extension": ".py",
   "mimetype": "text/x-python",
   "name": "python",
   "nbconvert_exporter": "python",
   "pygments_lexer": "ipython3",
   "version": "3.8.8"
  }
 },
 "nbformat": 4,
 "nbformat_minor": 5
}
