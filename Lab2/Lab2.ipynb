{
 "cells": [
  {
   "cell_type": "code",
   "execution_count": 3,
   "id": "26086804",
   "metadata": {},
   "outputs": [],
   "source": [
    "import re\n",
    "import pandas as pd\n",
    "import numpy as np"
   ]
  },
  {
   "cell_type": "code",
   "execution_count": 4,
   "id": "ae462f7e",
   "metadata": {},
   "outputs": [],
   "source": [
    "inp = \"\"\"Q: q0, q1, q2, q3, q4,\n",
    "         E: a, b, c,\n",
    "         F: q4,\n",
    "         D: {\n",
    "         q0, a, q1,\n",
    "         q1, b, q2,\n",
    "         q2, c, q0,\n",
    "         q1, b, q3,\n",
    "         q3, a, q4,\n",
    "         q3, b, q0\n",
    "         }\n",
    "         \"\"\""
   ]
  },
  {
   "cell_type": "code",
   "execution_count": 56,
   "id": "59a03ee0",
   "metadata": {},
   "outputs": [],
   "source": [
    "class FiniteAutomaton():\n",
    "    def __init__(self):\n",
    "        self.Q = []\n",
    "        self.E = []\n",
    "        self.F = []\n",
    "        self.D = []\n",
    "        self.nfa = {}\n",
    "        self.dfa = {}\n",
    "        self.nfa_table = []\n",
    "        self.dfa_table = []\n",
    "        \n",
    "    def read_input(self, inp):\n",
    "#       some clever regex stuff to split the automata into a list of lists of symbols  \n",
    "        lis = re.split(':|\\n', inp)[: -1]\n",
    "        automata = []\n",
    "        for item in lis:\n",
    "            if (len([symbol for symbol in re.split('\\W+', item) if symbol != '']) != 0):\n",
    "                automata += [[symbol for symbol in re.split('\\W+', item) if symbol != '']]\n",
    "#         print(automata)\n",
    "        \n",
    "        for i in range(len(automata)):\n",
    "            if automata[i][0] == \"Q\":\n",
    "                self.Q = automata[i + 1]\n",
    "            if automata[i][0] == \"E\":\n",
    "                self.E = automata[i + 1]\n",
    "            if automata[i][0] == \"F\":\n",
    "                self.F = automata[i + 1]\n",
    "            if automata[i][0] == \"D\":\n",
    "                self.D = [automata[j] for j in range(i + 1, i + 1 + len(automata) - 7)]\n",
    "                \n",
    "        for item in self.D:\n",
    "            flag = 1\n",
    "            if item[0] not in self.nfa.keys():\n",
    "                self.nfa[item[0]] = [[item[1], [item[2]]]]\n",
    "            else:\n",
    "                for i in range(len(self.nfa[item[0]])):\n",
    "                    if self.nfa[item[0]][i][0] == item[1]:\n",
    "                        self.nfa[item[0]][i][1] += [item[2]]\n",
    "                        flag = 0\n",
    "                if flag == 1:\n",
    "                    self.nfa[item[0]] += [[item[1], [item[2]]]]\n",
    "                \n",
    "    \n",
    "    def print_nfa(self):\n",
    "        tabel = np.empty((len(self.Q), len(self.E)))\n",
    "        tabel[:] = np.nan\n",
    "        tabel = pd.DataFrame(tabel, index=self.Q, columns=self.E)\n",
    "        tabel.iloc[:] = '-'\n",
    "#         print(tabel.loc[\"q0\",\"a\"])\n",
    "        for key in self.nfa.keys():\n",
    "            for pair in self.nfa[key]:\n",
    "                tabel.loc[key, pair[0]] = \"\".join([str(item) for item in pair[1]])\n",
    "        self.nfa_table = tabel\n",
    "        print(self.nfa_table)\n",
    "        \n",
    "#     def to_dfa(self):\n",
    "#         s = [\"q0\"]\n",
    "#         self.dfa[\"q0\"] = self.nfa[\"q0\"]\n",
    "#         while True:\n",
    "#             for node in self.nfa_table.loc[s, :]:\n",
    "#                 s = []"
   ]
  },
  {
   "cell_type": "code",
   "execution_count": 57,
   "id": "65ed4c93",
   "metadata": {},
   "outputs": [],
   "source": [
    "automaton = FiniteAutomaton()"
   ]
  },
  {
   "cell_type": "code",
   "execution_count": 58,
   "id": "63b48f22",
   "metadata": {},
   "outputs": [],
   "source": [
    "automaton.read_input(inp)"
   ]
  },
  {
   "cell_type": "code",
   "execution_count": 59,
   "id": "79307a75",
   "metadata": {},
   "outputs": [
    {
     "name": "stdout",
     "output_type": "stream",
     "text": [
      "     a     b   c\n",
      "q0  q1     -   -\n",
      "q1   -  q2q3   -\n",
      "q2   -     -  q0\n",
      "q3  q4    q0   -\n",
      "q4   -     -   -\n"
     ]
    }
   ],
   "source": [
    "automaton.print_nfa()"
   ]
  },
  {
   "cell_type": "code",
   "execution_count": null,
   "id": "4f56231b",
   "metadata": {},
   "outputs": [],
   "source": []
  }
 ],
 "metadata": {
  "kernelspec": {
   "display_name": "Python 3 (ipykernel)",
   "language": "python",
   "name": "python3"
  },
  "language_info": {
   "codemirror_mode": {
    "name": "ipython",
    "version": 3
   },
   "file_extension": ".py",
   "mimetype": "text/x-python",
   "name": "python",
   "nbconvert_exporter": "python",
   "pygments_lexer": "ipython3",
   "version": "3.8.8"
  }
 },
 "nbformat": 4,
 "nbformat_minor": 5
}
