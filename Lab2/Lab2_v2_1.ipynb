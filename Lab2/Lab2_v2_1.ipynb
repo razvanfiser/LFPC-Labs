{
 "cells": [
  {
   "cell_type": "code",
   "execution_count": 1,
   "id": "c2c6811b",
   "metadata": {},
   "outputs": [],
   "source": [
    "import re\n",
    "import pandas as pd\n",
    "import numpy as np"
   ]
  },
  {
   "cell_type": "markdown",
   "id": "41c5f7e1",
   "metadata": {},
   "source": [
    "# Input(s)"
   ]
  },
  {
   "cell_type": "code",
   "execution_count": 2,
   "id": "5b8b3099",
   "metadata": {},
   "outputs": [],
   "source": [
    "#My input, the rest are for testing purposes\n",
    "inp = \"\"\"Q: q0, q1, q2, q3, q4,\n",
    "         E: a, b, c,\n",
    "         F: q4,\n",
    "         D: {\n",
    "         q0, a, q1,\n",
    "         q1, b, q2,\n",
    "         q2, c, q0,\n",
    "         q1, b, q3,\n",
    "         q3, a, q4,\n",
    "         q3, b, q0\n",
    "         }\n",
    "         \"\"\""
   ]
  },
  {
   "cell_type": "code",
   "execution_count": 229,
   "id": "f6f17626",
   "metadata": {},
   "outputs": [],
   "source": [
    "inp = \"\"\"\n",
    "        Q: q0, q1, q2,\n",
    "        E: a, b, c,\n",
    "        F: q2,\n",
    "        D: {\n",
    "        q0, a, q0,\n",
    "        q0, b, q1,\n",
    "        q1, c, q1,\n",
    "        q1, c, q2,\n",
    "        q2, a, q0,\n",
    "        q1, a, q1\n",
    "        }\n",
    "        \"\"\""
   ]
  },
  {
   "cell_type": "code",
   "execution_count": 261,
   "id": "993637f4",
   "metadata": {},
   "outputs": [],
   "source": [
    "inp = \"\"\"\n",
    "        Q: q0, q1, q2, q3, q4,\n",
    "        E: a, b, c,\n",
    "        F: q4, \n",
    "        D: {\n",
    "        q0, a, q1,\n",
    "        q1, b, q2, \n",
    "        q1, b, q3,\n",
    "        q2, c, q3,\n",
    "        q3, a, q3,\n",
    "        q3, b, q4\n",
    "        }\n",
    "        \"\"\""
   ]
  },
  {
   "cell_type": "markdown",
   "id": "8ec84ddf",
   "metadata": {},
   "source": [
    "# FininteAutomaton Class"
   ]
  },
  {
   "cell_type": "code",
   "execution_count": 36,
   "id": "ab5cd9a4",
   "metadata": {},
   "outputs": [],
   "source": [
    "class FiniteAutomaton():\n",
    "    def __init__(self):\n",
    "        self.Q = []\n",
    "        self.E = []\n",
    "        self.F = []\n",
    "        self.D = []\n",
    "        self.nfa = {}\n",
    "        self.dfa = {}\n",
    "        self.nfa_table = []\n",
    "        self.dfa_table = []\n",
    "    \n",
    "    def read_input(self, inp):\n",
    "#       some clever regex stuff to split the automata into a list of lists of symbols  \n",
    "        lis = re.split(':|\\n', inp)[: -1]\n",
    "        automata = []\n",
    "        for item in lis:\n",
    "            if (len([symbol for symbol in re.split('\\W+', item) if symbol != '']) != 0):\n",
    "                automata += [[symbol for symbol in re.split('\\W+', item) if symbol != '']]\n",
    "        print(automata)\n",
    "        \n",
    "        for i in range(len(automata)):\n",
    "            if automata[i][0] == \"Q\":\n",
    "                self.Q = automata[i + 1]\n",
    "            if automata[i][0] == \"E\":\n",
    "                self.E = automata[i + 1]\n",
    "            if automata[i][0] == \"F\":\n",
    "                self.F = automata[i + 1]\n",
    "            if automata[i][0] == \"D\":\n",
    "                self.D = [automata[j] for j in range(i + 1, i + 1 + len(automata) - 7)]\n",
    "                \n",
    "        for item in self.D:\n",
    "            flag = 1\n",
    "            if item[0] not in self.nfa.keys():\n",
    "                self.nfa[item[0]] = {item[1]: [item[2]]}\n",
    "            else:\n",
    "                for key in self.nfa[item[0]].keys():\n",
    "                    if key == item[1]:\n",
    "                        self.nfa[item[0]][key] += [item[2]]\n",
    "                        flag = 0\n",
    "                if flag == 1:\n",
    "                    self.nfa[item[0]][item[1]] = [item[2]]\n",
    "                    \n",
    "        self.create_nfa_table()\n",
    "                    \n",
    "                \n",
    "    \n",
    "    def create_nfa_table(self):\n",
    "        tabel = np.empty((len(self.Q), len(self.E)))\n",
    "        tabel[:] = np.nan\n",
    "        tabel = pd.DataFrame(tabel, index=self.Q, columns=self.E)\n",
    "\n",
    "        for key in self.nfa.keys():\n",
    "            for inner_key in self.nfa[key].keys():\n",
    "                tabel.loc[key, inner_key] = \"\".join([str(item) for item in self.nfa[key][inner_key]])\n",
    "\n",
    "        tabel = tabel.fillna(\"\")\n",
    "            \n",
    "        self.nfa_table = tabel\n",
    "#         print(self.nfa_table)\n",
    "        \n",
    "    def print_dfa(self):\n",
    "        print(self.dfa_table)\n",
    "        \n",
    "    def print_nfa():\n",
    "        print(self.nfa_table)\n",
    "        \n",
    "    def to_dfa(self):\n",
    "        self.dfa_table = pd.DataFrame(np.empty((1, len(self.E))), index=[\"q0\"], columns=self.E)\n",
    "        self.dfa_table.loc[\"q0\", :] = self.nfa_table.loc[\"q0\", :]\n",
    "        to_visit = [\"q0\"]\n",
    "        self.dfa[\"q0\"] = self.nfa[\"q0\"]\n",
    "        nfa_table_copy = self.nfa_table.copy()\n",
    "        \n",
    "        while True:\n",
    "            #exit condition out of while loop\n",
    "            if len(to_visit) == 0:\n",
    "                break\n",
    "                \n",
    "            for q in to_visit:\n",
    "                if q not in nfa_table_copy.index:\n",
    "                    sub_qs = re.findall(\"q[0-9]+\", q)\n",
    "                    nfa_table_copy.loc[q, :] = nfa_table_copy.loc[sub_qs, :].sum()\n",
    "\n",
    "                to_visit = []\n",
    "                for key in nfa_table_copy.columns:\n",
    "                    if nfa_table_copy.loc[q, key] != \"\":\n",
    "                        node_list = re.findall(\"q[0-9]+\", nfa_table_copy.loc[q, key])\n",
    "                        node_list_concat = nfa_table_copy.loc[q, key]\n",
    "                        node_list_set = set(node_list)\n",
    "                        #using sets to make sure qxqy is treated the same as qyqx etc.\n",
    "                        list_index = [set(re.findall(\"q[0-9]+\", index)) for index in self.dfa_table.index]\n",
    "\n",
    "                        if node_list_set not in list_index:\n",
    "                            self.dfa_table.loc[node_list_concat, :] = self.nfa_table.loc[node_list, :].sum()\n",
    "                            to_visit += [node_list_concat]\n",
    "                            \n",
    "            self.dfa_table_to_dict()\n",
    "            \n",
    "    def dfa_table_to_dict(self):            \n",
    "        self.dfa = {}\n",
    "        for index in self.dfa_table.index:\n",
    "            for column in self.dfa_table.columns:\n",
    "                if self.dfa_table.loc[index, column] != \"\":\n",
    "                    if index not in self.dfa.keys():\n",
    "                        self.dfa[index] = {column : re.findall(\"q[0-9]+\", self.dfa_table.loc[index, column])}\n",
    "                    else:\n",
    "                        if column not in self.dfa[index].keys():\n",
    "                            self.dfa[index][column] = re.findall(\"q[0-9]+\", self.dfa_table.loc[index, column])\n",
    "                        else:\n",
    "                            self.dfa[index][column] += [re.findall(\"q[0-9]+\", self.dfa_table.loc[index, column])]\n",
    "                            \n",
    "    def check_string(self, string):\n",
    "        try:\n",
    "            start = \"q0\"\n",
    "            for character in string:\n",
    "                if character in self.dfa[start].keys():\n",
    "                    start = \"\".join(self.dfa[start][character])\n",
    "                else:\n",
    "                    return False\n",
    "\n",
    "            #checking if last accessed node was a terminal\n",
    "            for q in re.findall(\"q[0-9]+\", start):\n",
    "                if q in self.F:\n",
    "                    return True\n",
    "                else:\n",
    "                    return False\n",
    "        except:\n",
    "            return False"
   ]
  },
  {
   "cell_type": "code",
   "execution_count": 37,
   "id": "10bdbc16",
   "metadata": {
    "scrolled": true
   },
   "outputs": [
    {
     "name": "stdout",
     "output_type": "stream",
     "text": [
      "[['Q'], ['q0', 'q1', 'q2', 'q3', 'q4'], ['E'], ['a', 'b', 'c'], ['F'], ['q4'], ['D'], ['q0', 'a', 'q1'], ['q1', 'b', 'q2'], ['q2', 'c', 'q0'], ['q1', 'b', 'q3'], ['q3', 'a', 'q4'], ['q3', 'b', 'q0']]\n"
     ]
    }
   ],
   "source": [
    "automaton = FiniteAutomaton()\n",
    "automaton.read_input(inp)"
   ]
  },
  {
   "cell_type": "code",
   "execution_count": 38,
   "id": "caa0d365",
   "metadata": {},
   "outputs": [
    {
     "data": {
      "text/plain": [
       "[['q0', 'a', 'q1'],\n",
       " ['q1', 'b', 'q2'],\n",
       " ['q2', 'c', 'q0'],\n",
       " ['q1', 'b', 'q3'],\n",
       " ['q3', 'a', 'q4'],\n",
       " ['q3', 'b', 'q0']]"
      ]
     },
     "execution_count": 38,
     "metadata": {},
     "output_type": "execute_result"
    }
   ],
   "source": [
    "automaton.D"
   ]
  },
  {
   "cell_type": "code",
   "execution_count": 39,
   "id": "cee11130",
   "metadata": {},
   "outputs": [
    {
     "data": {
      "text/plain": [
       "{'q0': {'a': ['q1']},\n",
       " 'q1': {'b': ['q2', 'q3']},\n",
       " 'q2': {'c': ['q0']},\n",
       " 'q3': {'a': ['q4'], 'b': ['q0']}}"
      ]
     },
     "execution_count": 39,
     "metadata": {},
     "output_type": "execute_result"
    }
   ],
   "source": [
    "automaton.nfa"
   ]
  },
  {
   "cell_type": "code",
   "execution_count": 40,
   "id": "47509a37",
   "metadata": {},
   "outputs": [],
   "source": [
    "automaton.to_dfa()"
   ]
  },
  {
   "cell_type": "code",
   "execution_count": 41,
   "id": "36250b02",
   "metadata": {},
   "outputs": [
    {
     "data": {
      "text/plain": [
       "{'q0': {'a': ['q1']},\n",
       " 'q1': {'b': ['q2', 'q3']},\n",
       " 'q2q3': {'a': ['q4'], 'b': ['q0'], 'c': ['q0']}}"
      ]
     },
     "execution_count": 41,
     "metadata": {},
     "output_type": "execute_result"
    }
   ],
   "source": [
    "automaton.dfa"
   ]
  },
  {
   "cell_type": "code",
   "execution_count": 42,
   "id": "fd911e5b",
   "metadata": {},
   "outputs": [
    {
     "data": {
      "text/html": [
       "<div>\n",
       "<style scoped>\n",
       "    .dataframe tbody tr th:only-of-type {\n",
       "        vertical-align: middle;\n",
       "    }\n",
       "\n",
       "    .dataframe tbody tr th {\n",
       "        vertical-align: top;\n",
       "    }\n",
       "\n",
       "    .dataframe thead th {\n",
       "        text-align: right;\n",
       "    }\n",
       "</style>\n",
       "<table border=\"1\" class=\"dataframe\">\n",
       "  <thead>\n",
       "    <tr style=\"text-align: right;\">\n",
       "      <th></th>\n",
       "      <th>a</th>\n",
       "      <th>b</th>\n",
       "      <th>c</th>\n",
       "    </tr>\n",
       "  </thead>\n",
       "  <tbody>\n",
       "    <tr>\n",
       "      <th>q0</th>\n",
       "      <td>q1</td>\n",
       "      <td></td>\n",
       "      <td></td>\n",
       "    </tr>\n",
       "    <tr>\n",
       "      <th>q1</th>\n",
       "      <td></td>\n",
       "      <td>q2q3</td>\n",
       "      <td></td>\n",
       "    </tr>\n",
       "    <tr>\n",
       "      <th>q2</th>\n",
       "      <td></td>\n",
       "      <td></td>\n",
       "      <td>q0</td>\n",
       "    </tr>\n",
       "    <tr>\n",
       "      <th>q3</th>\n",
       "      <td>q4</td>\n",
       "      <td>q0</td>\n",
       "      <td></td>\n",
       "    </tr>\n",
       "    <tr>\n",
       "      <th>q4</th>\n",
       "      <td></td>\n",
       "      <td></td>\n",
       "      <td></td>\n",
       "    </tr>\n",
       "  </tbody>\n",
       "</table>\n",
       "</div>"
      ],
      "text/plain": [
       "     a     b   c\n",
       "q0  q1          \n",
       "q1      q2q3    \n",
       "q2            q0\n",
       "q3  q4    q0    \n",
       "q4              "
      ]
     },
     "execution_count": 42,
     "metadata": {},
     "output_type": "execute_result"
    }
   ],
   "source": [
    "automaton.nfa_table"
   ]
  },
  {
   "cell_type": "code",
   "execution_count": 31,
   "id": "2321b63f",
   "metadata": {},
   "outputs": [
    {
     "data": {
      "text/html": [
       "<div>\n",
       "<style scoped>\n",
       "    .dataframe tbody tr th:only-of-type {\n",
       "        vertical-align: middle;\n",
       "    }\n",
       "\n",
       "    .dataframe tbody tr th {\n",
       "        vertical-align: top;\n",
       "    }\n",
       "\n",
       "    .dataframe thead th {\n",
       "        text-align: right;\n",
       "    }\n",
       "</style>\n",
       "<table border=\"1\" class=\"dataframe\">\n",
       "  <thead>\n",
       "    <tr style=\"text-align: right;\">\n",
       "      <th></th>\n",
       "      <th>a</th>\n",
       "      <th>b</th>\n",
       "      <th>c</th>\n",
       "    </tr>\n",
       "  </thead>\n",
       "  <tbody>\n",
       "    <tr>\n",
       "      <th>q0</th>\n",
       "      <td>q1</td>\n",
       "      <td></td>\n",
       "      <td></td>\n",
       "    </tr>\n",
       "    <tr>\n",
       "      <th>q1</th>\n",
       "      <td></td>\n",
       "      <td>q2q3</td>\n",
       "      <td></td>\n",
       "    </tr>\n",
       "    <tr>\n",
       "      <th>q2q3</th>\n",
       "      <td>q4</td>\n",
       "      <td>q0</td>\n",
       "      <td>q0</td>\n",
       "    </tr>\n",
       "    <tr>\n",
       "      <th>q4</th>\n",
       "      <td></td>\n",
       "      <td></td>\n",
       "      <td></td>\n",
       "    </tr>\n",
       "  </tbody>\n",
       "</table>\n",
       "</div>"
      ],
      "text/plain": [
       "       a     b   c\n",
       "q0    q1          \n",
       "q1        q2q3    \n",
       "q2q3  q4    q0  q0\n",
       "q4                "
      ]
     },
     "execution_count": 31,
     "metadata": {},
     "output_type": "execute_result"
    }
   ],
   "source": [
    "automaton.dfa_table"
   ]
  },
  {
   "cell_type": "code",
   "execution_count": 45,
   "id": "7fa54676",
   "metadata": {},
   "outputs": [
    {
     "data": {
      "text/plain": [
       "False"
      ]
     },
     "execution_count": 45,
     "metadata": {},
     "output_type": "execute_result"
    }
   ],
   "source": [
    "automaton.check_string(\"acab\")"
   ]
  },
  {
   "cell_type": "code",
   "execution_count": null,
   "id": "ca4bc35c",
   "metadata": {},
   "outputs": [],
   "source": []
  }
 ],
 "metadata": {
  "kernelspec": {
   "display_name": "Python 3 (ipykernel)",
   "language": "python",
   "name": "python3"
  },
  "language_info": {
   "codemirror_mode": {
    "name": "ipython",
    "version": 3
   },
   "file_extension": ".py",
   "mimetype": "text/x-python",
   "name": "python",
   "nbconvert_exporter": "python",
   "pygments_lexer": "ipython3",
   "version": "3.8.8"
  }
 },
 "nbformat": 4,
 "nbformat_minor": 5
}
