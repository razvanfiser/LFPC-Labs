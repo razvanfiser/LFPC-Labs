{
 "cells": [
  {
   "cell_type": "code",
   "execution_count": 1,
   "id": "c2c6811b",
   "metadata": {},
   "outputs": [],
   "source": [
    "import re\n",
    "import pandas as pd\n",
    "import numpy as np\n",
    "import itertools\n",
    "import copy"
   ]
  },
  {
   "cell_type": "markdown",
   "id": "41c5f7e1",
   "metadata": {},
   "source": [
    "# Input(s)"
   ]
  },
  {
   "cell_type": "code",
   "execution_count": 729,
   "id": "5b8b3099",
   "metadata": {},
   "outputs": [],
   "source": [
    "#My input, the rest are for testing purposes\n",
    "inp = \"\"\"G=(Vn, Vt, P, S)\n",
    "        Vn={S, A, B, C, D}\n",
    "        Vt={a, b}\n",
    "        P={\n",
    "        S->aB\n",
    "        S->A\n",
    "        A->bAa\n",
    "        A->aS\n",
    "        A->a\n",
    "        B->AbB\n",
    "        B->BS\n",
    "        B->a\n",
    "        B->ε\n",
    "        C->BA\n",
    "        C->AAA\n",
    "        D->a\n",
    "        }\n",
    "         \"\"\""
   ]
  },
  {
   "cell_type": "code",
   "execution_count": 676,
   "id": "7291808b",
   "metadata": {},
   "outputs": [],
   "source": [
    "inp = \"\"\"G=(VN, VT, P, S)\n",
    "        Vn={S, A, B, C, D}\n",
    "        Vt={a, b}\n",
    "        P={\n",
    "        S->bA\n",
    "        S->BC\n",
    "        A->a\n",
    "        A->aS\n",
    "        A->bAaAb\n",
    "        B->A\n",
    "        B->bS\n",
    "        B->aAa\n",
    "        C->ε\n",
    "        C->AB\n",
    "        D->AB\n",
    "        }\n",
    "        \"\"\""
   ]
  },
  {
   "cell_type": "markdown",
   "id": "8ec84ddf",
   "metadata": {},
   "source": [
    "# Grammar Class"
   ]
  },
  {
   "cell_type": "code",
   "execution_count": 730,
   "id": "ab5cd9a4",
   "metadata": {},
   "outputs": [],
   "source": [
    "class Grammar():\n",
    "    def __init__(self):\n",
    "        self.S = \"\"\n",
    "        self.Vn = []\n",
    "        self.Vt = []\n",
    "        self.P = {}\n",
    "        \n",
    "    def read_input(self, inp):\n",
    "        def iterator(string):\n",
    "            li = []\n",
    "            symbol = \"\"\n",
    "            for item in string:\n",
    "                if item != \"}\" and item != \")\":\n",
    "                    li.append(item)\n",
    "                else:\n",
    "                    break\n",
    "            return li\n",
    "        \n",
    "        def construct_P(string):\n",
    "            p = iterator(string)\n",
    "            lhs = p[0::2]\n",
    "            rhs = p[1::2]\n",
    "            \n",
    "            for i in range(len(lhs)):\n",
    "                if lhs[i] not in self.P.keys():\n",
    "                    self.P[lhs[i]] = [rhs[i]]\n",
    "                else:\n",
    "                    self.P[lhs[i]].append(rhs[i])\n",
    "            \n",
    "        grammar = re.findall(\"\\w+|\\(|\\)|{|}\", inp)\n",
    "        \n",
    "        for i in range(len(grammar)):\n",
    "            if grammar[i] == \"G\":\n",
    "                self.S = grammar[i + 5]\n",
    "            elif grammar[i] == \"Vn\":\n",
    "                self.Vn = iterator(grammar[i+2:])\n",
    "            elif grammar[i] == \"Vt\":\n",
    "                self.Vt = iterator(grammar[i+2:])\n",
    "            elif grammar[i] == \"P\":\n",
    "                construct_P(grammar[i+2:])"
   ]
  },
  {
   "cell_type": "markdown",
   "id": "7139eb1a",
   "metadata": {},
   "source": [
    "# Stage0: Ensure no S on RHS"
   ]
  },
  {
   "cell_type": "code",
   "execution_count": 731,
   "id": "901691f7",
   "metadata": {},
   "outputs": [],
   "source": [
    "class Stage0():\n",
    "    def __init__(self):\n",
    "        pass\n",
    "        \n",
    "    def apply(self, grammar):\n",
    "        grammar.P[\"S_0\"] = [grammar.S, \"ε\"]\n",
    "        grammar.Vn.append(\"S_0\")\n",
    "        grammar.S = \"S_0\""
   ]
  },
  {
   "cell_type": "markdown",
   "id": "3f50c97a",
   "metadata": {},
   "source": [
    "# Stage1: Remove Empty Strings"
   ]
  },
  {
   "cell_type": "code",
   "execution_count": 732,
   "id": "3f43704a",
   "metadata": {},
   "outputs": [],
   "source": [
    "class Stage1():\n",
    "    def __init__(self, grammar):\n",
    "        self.S = grammar.S\n",
    "        self.Vn = grammar.Vn\n",
    "        self.Vt = grammar.Vt\n",
    "        self.P = grammar.P\n",
    "        \n",
    "    def get_nullables(self):\n",
    "        derives_in = [\"ε\"]\n",
    "        nullables = []\n",
    "        while True:\n",
    "            flag = 0\n",
    "            for node in self.Vn:\n",
    "                for d in derives_in:\n",
    "                    for element in self.P[node]:\n",
    "                        for character in element:\n",
    "                            if character == d and node not in nullables:\n",
    "                                flag += 1\n",
    "                                nullables.append(node)\n",
    "                                derives_in.append(node)\n",
    "            if flag == 0:\n",
    "                break\n",
    "        return nullables\n",
    "    \n",
    "    def get_all_poss_combinations(self, string):\n",
    "        nullables = self.get_nullables()\n",
    "        def foo(str_len):\n",
    "             yield from itertools.product(*([[\"0\", \"1\"]] * str_len))\n",
    "                \n",
    "        l = 0\n",
    "        for char in string:\n",
    "            if char in nullables:\n",
    "                l += 1\n",
    "        binary_combs = foo(l)\n",
    "        \n",
    "        comb_list = []\n",
    "        for tup in binary_combs:\n",
    "            curr_str = \"\"\n",
    "            ind = 0\n",
    "            for char in string:\n",
    "                if char in nullables:\n",
    "                    if tup[ind] == \"1\":\n",
    "                        curr_str += char\n",
    "                        ind += 1\n",
    "                    else:\n",
    "                        ind += 1\n",
    "                else:\n",
    "                    curr_str += char\n",
    "            if curr_str != \"\":\n",
    "                comb_list.append(curr_str)\n",
    "            \n",
    "        return comb_list\n",
    "    \n",
    "    def apply(self):\n",
    "        P_copy = copy.deepcopy(self.P)\n",
    "        nullables = self.get_nullables()\n",
    "        \n",
    "        for key in P_copy.keys():\n",
    "            for string in P_copy[key]:\n",
    "#                 print(\"here lol \" + string)\n",
    "                for char in string:\n",
    "                    if char in nullables:\n",
    "                        self.P[key].remove(string)\n",
    "                        self.P[key] += self.get_all_poss_combinations(string)\n",
    "                        break\n",
    "        \n",
    "        for key in self.P.keys():\n",
    "            self.P[key] = list(set(self.P[key]))\n",
    "            if \"ε\" in self.P[key] and key != self.S:\n",
    "                self.P[key].remove(\"ε\")"
   ]
  },
  {
   "cell_type": "markdown",
   "id": "3b56d0ee",
   "metadata": {},
   "source": [
    "# Stage2: Remove renamings"
   ]
  },
  {
   "cell_type": "code",
   "execution_count": 733,
   "id": "f9c5f579",
   "metadata": {},
   "outputs": [],
   "source": [
    "class Stage2():\n",
    "    def __init__(self):\n",
    "        pass\n",
    "    \n",
    "    def apply(self, grammar):\n",
    "        self.grammar = grammar\n",
    "        P_copy = copy.deepcopy(grammar.P)\n",
    "        \n",
    "        try:\n",
    "            for key in P_copy.keys():\n",
    "                for string in P_copy[key]:\n",
    "                    if string in grammar.Vn:\n",
    "                        grammar.P[key].remove(string)\n",
    "                        grammar.P[key] += grammar.P[string]\n",
    "                        self.apply(self.grammar)\n",
    "        except:\n",
    "            pass\n",
    "        \n",
    "        for key in grammar.P.keys():\n",
    "            grammar.P[key] = list(set(grammar.P[key]))"
   ]
  },
  {
   "cell_type": "markdown",
   "id": "23c06ec4",
   "metadata": {},
   "source": [
    "# Stage3: Remove Unproductive"
   ]
  },
  {
   "cell_type": "code",
   "execution_count": 734,
   "id": "08ba9b58",
   "metadata": {},
   "outputs": [],
   "source": [
    "class Stage3():\n",
    "    def __init__(self):\n",
    "        pass\n",
    "    \n",
    "    def get_all_unproductive(self, grammar):\n",
    "        productive = []\n",
    "#         print(grammar.Vt)\n",
    "        for key in grammar.P.keys():\n",
    "            for string in grammar.P[key]:\n",
    "                cnt = 0\n",
    "                for character in string:\n",
    "                    if character in grammar.Vt:\n",
    "                        cnt += 1\n",
    "                if cnt == len(string):\n",
    "                    productive.append(key)\n",
    "                    break\n",
    "                    \n",
    "        while True:\n",
    "            productive_len = len(productive)\n",
    "            for key in grammar.P.keys():\n",
    "                if key not in productive:\n",
    "                    for string in grammar.P[key]:\n",
    "                        for char in string:\n",
    "                            flag = 0\n",
    "                            if char in grammar.Vn and char not in productive:\n",
    "                                break\n",
    "                            flag = 1\n",
    "                        if flag == 1:\n",
    "                            productive.append(key)\n",
    "                            break\n",
    "                            \n",
    "#             print(\"While loop ran at least once\")\n",
    "#           while break condition\n",
    "            curr_productive_len = len(productive)\n",
    "            if curr_productive_len == productive_len:\n",
    "                break\n",
    "        \n",
    "        unproductive = []\n",
    "        \n",
    "        for element in grammar.Vn:\n",
    "            if element not in productive:\n",
    "                unproductive.append(element)\n",
    "                            \n",
    "        return unproductive\n",
    "    \n",
    "    def apply(self, grammar):\n",
    "        unproductive = self.get_all_unproductive(grammar)\n",
    "        \n",
    "        for element in unproductive:\n",
    "            grammar.P.pop(element)\n",
    "            if element in grammar.Vn:\n",
    "                grammar.Vn.remove(element)\n",
    "            else:\n",
    "                grammar.Vt.remove(element)\n",
    "            \n",
    "        for key in grammar.P.keys():\n",
    "            for string in grammar.P[key]:\n",
    "                for char in string:\n",
    "                    if char in unproductive:\n",
    "                        grammar.P[key].remove(string)"
   ]
  },
  {
   "cell_type": "markdown",
   "id": "8d7ae3d2",
   "metadata": {},
   "source": [
    "# Stage4: Remove Innaccssible"
   ]
  },
  {
   "cell_type": "code",
   "execution_count": 735,
   "id": "b80cf57f",
   "metadata": {},
   "outputs": [],
   "source": [
    "class Stage4():\n",
    "    def __init__(self):\n",
    "        pass\n",
    "    \n",
    "    def get_all_innaccessible(self, grammar):\n",
    "        accessible = [grammar.S]\n",
    "        start = [grammar.S]\n",
    "        \n",
    "        while True:\n",
    "            for element in start:\n",
    "                start = []\n",
    "                if element in grammar.Vn:\n",
    "                    for string in grammar.P[element]:\n",
    "                        for character in string:\n",
    "                            if character not in accessible:\n",
    "                                accessible.append(character)\n",
    "                                start.append(character)\n",
    "                            \n",
    "            if len(start) == 0:\n",
    "                break\n",
    "        \n",
    "        inaccessible = []\n",
    "        for element in (grammar.Vn + grammar.Vt):\n",
    "            if element not in accessible:\n",
    "                inaccessible.append(element)\n",
    "                \n",
    "        return inaccessible\n",
    "    \n",
    "    def apply(self, grammar):\n",
    "        inaccessible = self.get_all_innaccessible(grammar)\n",
    "        \n",
    "        for element in inaccessible:\n",
    "            grammar.P.pop(element)\n",
    "            if element in grammar.Vn:\n",
    "                grammar.Vn.remove(element)\n",
    "            else:\n",
    "                grammar.Vt.remove(element)\n",
    "            \n",
    "        for key in grammar.P.keys():\n",
    "            for string in grammar.P[key]:\n",
    "                for char in string:\n",
    "                    if char in inaccessible:\n",
    "                        grammar.P[key].remove(string)"
   ]
  },
  {
   "cell_type": "markdown",
   "id": "5f03db6f",
   "metadata": {},
   "source": [
    "# Stage5: Normalize"
   ]
  },
  {
   "cell_type": "code",
   "execution_count": 736,
   "id": "c42657b7",
   "metadata": {},
   "outputs": [],
   "source": [
    "class Step5():\n",
    "    def __init__(self):\n",
    "        pass\n",
    "    \n",
    "    def replace_terminals(self, grammar):\n",
    "        X_list = []\n",
    "        X_goes_to = []\n",
    "        \n",
    "        for key in grammar.P.keys():\n",
    "            for i in range(len(grammar.P[key])):\n",
    "                if len(grammar.P[key][i]) > 1:\n",
    "                    for character in grammar.P[key][i]:\n",
    "                        if character in grammar.Vt and character not in X_goes_to:\n",
    "                            X_list.append(\"X_\" + str(len(X_list)))\n",
    "                            X_goes_to.append(character)\n",
    "                            grammar.P[key][i] = (grammar.P[key][i]).replace(character, X_list[-1])\n",
    "                        elif character in grammar.Vt and character in X_goes_to:\n",
    "                            index = X_goes_to.index(character)\n",
    "                            grammar.P[key][i] = (grammar.P[key][i]).replace(character, X_list[index])\n",
    "                            \n",
    "        for i in range(len(X_list)):\n",
    "            grammar.P[X_list[i]] = [X_goes_to[i]]\n",
    "            grammar.Vn.append(X_list[i])\n",
    "                            \n",
    "    def replace_nonterminals(self, grammar):\n",
    "        Y_list = []\n",
    "        Y_goes_to = []\n",
    "        \n",
    "        while True:\n",
    "            Y_list_len = len(Y_list)\n",
    "            for key in grammar.P.keys():\n",
    "                for i in range(len(grammar.P[key])):\n",
    "                    symbol_list = re.findall(\"X_[0-9]+|Y_[0-9]+|[A-Z]\", grammar.P[key][i])\n",
    "                    if len(symbol_list) > 2:\n",
    "                        for j in range(0, len(symbol_list)-1, 2):\n",
    "                            if (symbol_list[j], symbol_list[j+1]) not in Y_goes_to:\n",
    "                                Y_list.append(\"Y_\" + str(len(Y_list)))\n",
    "                                Y_goes_to.append((symbol_list[j], symbol_list[j+1]))\n",
    "                                grammar.P[key][i] = (grammar.P[key][i]).replace(symbol_list[j]+symbol_list[j+1], Y_list[-1])\n",
    "                            else:\n",
    "                                index = Y_goes_to.index((symbol_list[j], symbol_list[j+1]))\n",
    "                                grammar.P[key][i] = (grammar.P[key][i]).replace(symbol_list[j]+symbol_list[j+1], Y_list[index])\n",
    "                                \n",
    "            Y_list_len_curr = len(Y_list)\n",
    "            \n",
    "            if Y_list_len == Y_list_len_curr:\n",
    "                break\n",
    "                \n",
    "        for i in range(len(Y_list)):\n",
    "            grammar.P[Y_list[i]] = [\"\".join([Y_goes_to[i][0], Y_goes_to[i][1]])]\n",
    "            grammar.Vn.append(Y_list[i])\n",
    "                \n",
    "    def apply(self, grammar):\n",
    "        self.replace_terminals(grammar)\n",
    "        self.replace_nonterminals(grammar)"
   ]
  },
  {
   "cell_type": "code",
   "execution_count": 737,
   "id": "97d2e933",
   "metadata": {},
   "outputs": [],
   "source": [
    "g = Grammar()"
   ]
  },
  {
   "cell_type": "code",
   "execution_count": 738,
   "id": "cba60661",
   "metadata": {},
   "outputs": [
    {
     "data": {
      "text/plain": [
       "{'S': ['aB', 'A'],\n",
       " 'A': ['bAa', 'aS', 'a'],\n",
       " 'B': ['AbB', 'BS', 'a', 'ε'],\n",
       " 'C': ['BA', 'AAA'],\n",
       " 'D': ['a']}"
      ]
     },
     "execution_count": 738,
     "metadata": {},
     "output_type": "execute_result"
    }
   ],
   "source": [
    "g.read_input(inp)\n",
    "g.P"
   ]
  },
  {
   "cell_type": "code",
   "execution_count": 739,
   "id": "7c949e8d",
   "metadata": {},
   "outputs": [],
   "source": [
    "st0 = Stage0()\n",
    "st0.apply(g)"
   ]
  },
  {
   "cell_type": "code",
   "execution_count": 740,
   "id": "e84b3904",
   "metadata": {},
   "outputs": [],
   "source": [
    "st1 = Stage1(g)"
   ]
  },
  {
   "cell_type": "code",
   "execution_count": 741,
   "id": "67af3ad8",
   "metadata": {},
   "outputs": [],
   "source": [
    "st1.apply()"
   ]
  },
  {
   "cell_type": "code",
   "execution_count": 742,
   "id": "7ff476af",
   "metadata": {},
   "outputs": [
    {
     "data": {
      "text/plain": [
       "{'S': ['aB', 'A', 'a'],\n",
       " 'A': ['ba', 'aS', 'bAa', 'a'],\n",
       " 'B': ['AbB', 'B', 'Ab', 'bB', 'a', 'b', 'BS', 'S'],\n",
       " 'C': ['B', 'A', 'BA', 'AAA', 'AA'],\n",
       " 'D': ['a'],\n",
       " 'S_0': ['ε', 'S']}"
      ]
     },
     "execution_count": 742,
     "metadata": {},
     "output_type": "execute_result"
    }
   ],
   "source": [
    "st1.P"
   ]
  },
  {
   "cell_type": "code",
   "execution_count": 743,
   "id": "c34f06f1",
   "metadata": {},
   "outputs": [
    {
     "data": {
      "text/plain": [
       "{'S': ['aB', 'A', 'a'],\n",
       " 'A': ['ba', 'aS', 'bAa', 'a'],\n",
       " 'B': ['AbB', 'B', 'Ab', 'bB', 'a', 'b', 'BS', 'S'],\n",
       " 'C': ['B', 'A', 'BA', 'AAA', 'AA'],\n",
       " 'D': ['a'],\n",
       " 'S_0': ['ε', 'S']}"
      ]
     },
     "execution_count": 743,
     "metadata": {},
     "output_type": "execute_result"
    }
   ],
   "source": [
    "g.P"
   ]
  },
  {
   "cell_type": "code",
   "execution_count": 744,
   "id": "8884a821",
   "metadata": {},
   "outputs": [],
   "source": [
    "st2 = Stage2()\n",
    "st2.apply(g)"
   ]
  },
  {
   "cell_type": "code",
   "execution_count": 745,
   "id": "3d9c4d6b",
   "metadata": {},
   "outputs": [
    {
     "data": {
      "text/plain": [
       "{'S': ['aB', 'a', 'aS', 'ba', 'bAa'],\n",
       " 'A': ['ba', 'bAa', 'aS', 'a'],\n",
       " 'B': ['aB', 'AbB', 'Ab', 'a', 'b', 'bB', 'aS', 'BS', 'ba', 'bAa'],\n",
       " 'C': ['aB',\n",
       "  'AbB',\n",
       "  'AAA',\n",
       "  'Ab',\n",
       "  'bB',\n",
       "  'a',\n",
       "  'b',\n",
       "  'aS',\n",
       "  'BA',\n",
       "  'BS',\n",
       "  'ba',\n",
       "  'bAa',\n",
       "  'AA'],\n",
       " 'D': ['a'],\n",
       " 'S_0': ['aB', 'ε', 'a', 'aS', 'ba', 'bAa']}"
      ]
     },
     "execution_count": 745,
     "metadata": {},
     "output_type": "execute_result"
    }
   ],
   "source": [
    "g.P"
   ]
  },
  {
   "cell_type": "code",
   "execution_count": 746,
   "id": "8c38e46f",
   "metadata": {},
   "outputs": [
    {
     "data": {
      "text/plain": [
       "[]"
      ]
     },
     "execution_count": 746,
     "metadata": {},
     "output_type": "execute_result"
    }
   ],
   "source": [
    "st3 = Stage3()\n",
    "st3.get_all_unproductive(g)"
   ]
  },
  {
   "cell_type": "code",
   "execution_count": 747,
   "id": "826805e0",
   "metadata": {},
   "outputs": [],
   "source": [
    "st3.apply(g)"
   ]
  },
  {
   "cell_type": "code",
   "execution_count": 748,
   "id": "aabdd7c8",
   "metadata": {},
   "outputs": [
    {
     "data": {
      "text/plain": [
       "{'S': ['aB', 'a', 'aS', 'ba', 'bAa'],\n",
       " 'A': ['ba', 'bAa', 'aS', 'a'],\n",
       " 'B': ['aB', 'AbB', 'Ab', 'a', 'b', 'bB', 'aS', 'BS', 'ba', 'bAa'],\n",
       " 'C': ['aB',\n",
       "  'AbB',\n",
       "  'AAA',\n",
       "  'Ab',\n",
       "  'bB',\n",
       "  'a',\n",
       "  'b',\n",
       "  'aS',\n",
       "  'BA',\n",
       "  'BS',\n",
       "  'ba',\n",
       "  'bAa',\n",
       "  'AA'],\n",
       " 'D': ['a'],\n",
       " 'S_0': ['aB', 'ε', 'a', 'aS', 'ba', 'bAa']}"
      ]
     },
     "execution_count": 748,
     "metadata": {},
     "output_type": "execute_result"
    }
   ],
   "source": [
    "g.P"
   ]
  },
  {
   "cell_type": "code",
   "execution_count": 749,
   "id": "c4878031",
   "metadata": {},
   "outputs": [
    {
     "data": {
      "text/plain": [
       "['C', 'D']"
      ]
     },
     "execution_count": 749,
     "metadata": {},
     "output_type": "execute_result"
    }
   ],
   "source": [
    "st4 = Stage4()\n",
    "st4.get_all_innaccessible(g)"
   ]
  },
  {
   "cell_type": "code",
   "execution_count": 750,
   "id": "3e0f734b",
   "metadata": {},
   "outputs": [],
   "source": [
    "st4.apply(g)"
   ]
  },
  {
   "cell_type": "code",
   "execution_count": 751,
   "id": "a1b5835d",
   "metadata": {},
   "outputs": [
    {
     "data": {
      "text/plain": [
       "{'S': ['aB', 'a', 'aS', 'ba', 'bAa'],\n",
       " 'A': ['ba', 'bAa', 'aS', 'a'],\n",
       " 'B': ['aB', 'AbB', 'Ab', 'a', 'b', 'bB', 'aS', 'BS', 'ba', 'bAa'],\n",
       " 'S_0': ['aB', 'ε', 'a', 'aS', 'ba', 'bAa']}"
      ]
     },
     "execution_count": 751,
     "metadata": {},
     "output_type": "execute_result"
    }
   ],
   "source": [
    "g.P"
   ]
  },
  {
   "cell_type": "code",
   "execution_count": 752,
   "id": "4667755d",
   "metadata": {
    "scrolled": true
   },
   "outputs": [
    {
     "data": {
      "text/plain": [
       "['S', 'A', 'B', 'S_0']"
      ]
     },
     "execution_count": 752,
     "metadata": {},
     "output_type": "execute_result"
    }
   ],
   "source": [
    "g.Vn"
   ]
  },
  {
   "cell_type": "code",
   "execution_count": 753,
   "id": "771ba6ca",
   "metadata": {},
   "outputs": [],
   "source": [
    "st5 = Step5()\n",
    "st5.replace_terminals(g)"
   ]
  },
  {
   "cell_type": "code",
   "execution_count": 754,
   "id": "26c1fc84",
   "metadata": {},
   "outputs": [
    {
     "data": {
      "text/plain": [
       "{'S': ['X_0B', 'a', 'X_0S', 'X_1X_0', 'X_1AX_0'],\n",
       " 'A': ['X_1X_0', 'X_1AX_0', 'X_0S', 'a'],\n",
       " 'B': ['X_0B',\n",
       "  'AX_1B',\n",
       "  'AX_1',\n",
       "  'a',\n",
       "  'b',\n",
       "  'X_1B',\n",
       "  'X_0S',\n",
       "  'BS',\n",
       "  'X_1X_0',\n",
       "  'X_1AX_0'],\n",
       " 'S_0': ['X_0B', 'ε', 'a', 'X_0S', 'X_1X_0', 'X_1AX_0'],\n",
       " 'X_0': ['a'],\n",
       " 'X_1': ['b']}"
      ]
     },
     "execution_count": 754,
     "metadata": {},
     "output_type": "execute_result"
    }
   ],
   "source": [
    "g.P"
   ]
  },
  {
   "cell_type": "code",
   "execution_count": 755,
   "id": "eb72821a",
   "metadata": {},
   "outputs": [
    {
     "data": {
      "text/plain": [
       "['S', 'A', 'B', 'S_0', 'X_0', 'X_1']"
      ]
     },
     "execution_count": 755,
     "metadata": {},
     "output_type": "execute_result"
    }
   ],
   "source": [
    "g.Vn"
   ]
  },
  {
   "cell_type": "code",
   "execution_count": 756,
   "id": "e036e1cf",
   "metadata": {},
   "outputs": [],
   "source": [
    "st5.replace_nonterminals(g)"
   ]
  },
  {
   "cell_type": "code",
   "execution_count": 757,
   "id": "8d6f269e",
   "metadata": {},
   "outputs": [
    {
     "data": {
      "text/plain": [
       "{'S': ['X_0B', 'a', 'X_0S', 'X_1X_0', 'Y_0X_0'],\n",
       " 'A': ['X_1X_0', 'Y_0X_0', 'X_0S', 'a'],\n",
       " 'B': ['X_0B',\n",
       "  'Y_1B',\n",
       "  'AX_1',\n",
       "  'a',\n",
       "  'b',\n",
       "  'X_1B',\n",
       "  'X_0S',\n",
       "  'BS',\n",
       "  'X_1X_0',\n",
       "  'Y_0X_0'],\n",
       " 'S_0': ['X_0B', 'ε', 'a', 'X_0S', 'X_1X_0', 'Y_0X_0'],\n",
       " 'X_0': ['a'],\n",
       " 'X_1': ['b'],\n",
       " 'Y_0': ['X_1A'],\n",
       " 'Y_1': ['AX_1']}"
      ]
     },
     "execution_count": 757,
     "metadata": {},
     "output_type": "execute_result"
    }
   ],
   "source": [
    "g.P"
   ]
  },
  {
   "cell_type": "code",
   "execution_count": 758,
   "id": "181e50cc",
   "metadata": {},
   "outputs": [
    {
     "data": {
      "text/plain": [
       "['S', 'A', 'B', 'S_0', 'X_0', 'X_1', 'Y_0', 'Y_1']"
      ]
     },
     "execution_count": 758,
     "metadata": {},
     "output_type": "execute_result"
    }
   ],
   "source": [
    "g.Vn"
   ]
  },
  {
   "cell_type": "code",
   "execution_count": null,
   "id": "895137b5",
   "metadata": {},
   "outputs": [],
   "source": []
  }
 ],
 "metadata": {
  "kernelspec": {
   "display_name": "Python 3 (ipykernel)",
   "language": "python",
   "name": "python3"
  },
  "language_info": {
   "codemirror_mode": {
    "name": "ipython",
    "version": 3
   },
   "file_extension": ".py",
   "mimetype": "text/x-python",
   "name": "python",
   "nbconvert_exporter": "python",
   "pygments_lexer": "ipython3",
   "version": "3.8.8"
  }
 },
 "nbformat": 4,
 "nbformat_minor": 5
}
