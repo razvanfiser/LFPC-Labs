{
 "cells": [
  {
   "cell_type": "code",
   "execution_count": 16,
   "id": "326fbcb0",
   "metadata": {},
   "outputs": [],
   "source": [
    "import re\n",
    "import pandas as pd\n",
    "import numpy as np\n",
    "import itertools\n",
    "import copy"
   ]
  },
  {
   "cell_type": "markdown",
   "id": "05130c77",
   "metadata": {},
   "source": [
    "# Input"
   ]
  },
  {
   "cell_type": "code",
   "execution_count": 17,
   "id": "22d0fd91",
   "metadata": {},
   "outputs": [],
   "source": [
    "inp = \"\"\"G=(Vn, Vt, P, S)\n",
    "        Vn={S, A, B, C, D}\n",
    "        Vt={a, b, c, d, e}\n",
    "        P={\n",
    "        S->C\n",
    "        C->BcA\n",
    "        A->b\n",
    "        A->dD\n",
    "        D->Be\n",
    "        B->a\n",
    "        B->Bba\n",
    "        }\n",
    "         \"\"\""
   ]
  },
  {
   "cell_type": "code",
   "execution_count": 18,
   "id": "59f37758",
   "metadata": {},
   "outputs": [],
   "source": [
    "inp = \"\"\"G=(Vn, Vt, P, S)\n",
    "        Vn={S, B, D, A}\n",
    "        Vt={a, b, c, d}\n",
    "        P={\n",
    "        S->dB\n",
    "        B->D\n",
    "        B->DcB\n",
    "        D->bA\n",
    "        A->a\n",
    "        A->aA\n",
    "        }\n",
    "         \"\"\""
   ]
  },
  {
   "cell_type": "markdown",
   "id": "09a0917b",
   "metadata": {},
   "source": [
    "# Grammar Class"
   ]
  },
  {
   "cell_type": "code",
   "execution_count": 19,
   "id": "15976b45",
   "metadata": {},
   "outputs": [],
   "source": [
    "class Grammar():\n",
    "    def __init__(self):\n",
    "        self.S = \"\"\n",
    "        self.Vn = []\n",
    "        self.Vt = []\n",
    "        self.P = {}\n",
    "        \n",
    "    def read_input(self, inp):\n",
    "        def iterator(string):\n",
    "            li = []\n",
    "            symbol = \"\"\n",
    "            for item in string:\n",
    "                if item != \"}\" and item != \")\":\n",
    "                    li.append(item)\n",
    "                else:\n",
    "                    break\n",
    "            return li\n",
    "        \n",
    "        def construct_P(string):\n",
    "            p = iterator(string)\n",
    "            lhs = p[0::2]\n",
    "            rhs = p[1::2]\n",
    "            \n",
    "            for i in range(len(lhs)):\n",
    "                if lhs[i] not in self.P.keys():\n",
    "                    self.P[lhs[i]] = [rhs[i]]\n",
    "                else:\n",
    "                    self.P[lhs[i]].append(rhs[i])\n",
    "            \n",
    "        grammar = re.findall(\"\\w+|\\(|\\)|{|}\", inp)\n",
    "        \n",
    "        for i in range(len(grammar)):\n",
    "            if grammar[i] == \"G\":\n",
    "                self.S = grammar[i + 5]\n",
    "            elif grammar[i] == \"Vn\":\n",
    "                self.Vn = iterator(grammar[i+2:])\n",
    "            elif grammar[i] == \"Vt\":\n",
    "                self.Vt = iterator(grammar[i+2:])\n",
    "            elif grammar[i] == \"P\":\n",
    "                construct_P(grammar[i+2:])"
   ]
  },
  {
   "cell_type": "code",
   "execution_count": 20,
   "id": "9ac5c552",
   "metadata": {},
   "outputs": [],
   "source": [
    "g = Grammar()\n",
    "g.read_input(inp)"
   ]
  },
  {
   "cell_type": "code",
   "execution_count": 21,
   "id": "a9c57504",
   "metadata": {},
   "outputs": [
    {
     "data": {
      "text/plain": [
       "{'S': ['dB'], 'B': ['D', 'DcB'], 'D': ['bA'], 'A': ['a', 'aA']}"
      ]
     },
     "execution_count": 21,
     "metadata": {},
     "output_type": "execute_result"
    }
   ],
   "source": [
    "g.P"
   ]
  },
  {
   "cell_type": "markdown",
   "id": "9d275967",
   "metadata": {},
   "source": [
    "# FirstLast Class"
   ]
  },
  {
   "cell_type": "code",
   "execution_count": 22,
   "id": "f314df6b",
   "metadata": {},
   "outputs": [],
   "source": [
    "class FirstLast():\n",
    "    def __init__(self):\n",
    "        self.first = {}\n",
    "        self.last = {}\n",
    "    \n",
    "    def comp_first(self, grammar):\n",
    "        P = grammar.P\n",
    "        first = {}\n",
    "        visited = {}\n",
    "        # initializing vizited\n",
    "        for key in P.keys():\n",
    "            visited[key] = []\n",
    "        \n",
    "        # add first letters only\n",
    "        for key in P.keys():\n",
    "            for item in P[key]:\n",
    "                if key not in first.keys():\n",
    "                    first[key] = [item[0]]\n",
    "                else:\n",
    "                    first[key].append(item[0])\n",
    "                    first[key] = list(set(first[key]))\n",
    "        \n",
    "        # add rest of letters\n",
    "        should_break = False\n",
    "        while True:\n",
    "            should_break = True\n",
    "            for key in first.keys():\n",
    "                for item in first[key]:\n",
    "                    if item in grammar.Vn and item not in visited[key]:\n",
    "                        first[key] += first[item]\n",
    "                        first[key] = list(set(first[key]))\n",
    "                        visited[key].append(item)\n",
    "                        should_break = False\n",
    "            \n",
    "            if (should_break == True):\n",
    "                break\n",
    "        \n",
    "        self.first = first\n",
    "    \n",
    "    def comp_last(self, grammar):\n",
    "        P = grammar.P\n",
    "        first = {}\n",
    "        visited = {}\n",
    "        # initializing vizited\n",
    "        for key in P.keys():\n",
    "            visited[key] = []\n",
    "            \n",
    "        # add first letters only\n",
    "        for key in P.keys():\n",
    "            for item in P[key]:\n",
    "                if key not in first.keys():\n",
    "                    first[key] = [item[-1]]\n",
    "                else:\n",
    "                    first[key].append(item[-1])\n",
    "                    first[key] = list(set(first[key]))\n",
    "        \n",
    "        should_break = False\n",
    "        while True:\n",
    "            should_break = True\n",
    "            for key in first.keys():\n",
    "                for item in first[key]:\n",
    "                    if item in grammar.Vn and item not in visited[key]:\n",
    "                        first[key] += first[item]\n",
    "                        first[key] = list(set(first[key]))\n",
    "                        visited[key].append(item)\n",
    "                        should_break = False\n",
    "            \n",
    "            if (should_break == True):\n",
    "                break\n",
    "        \n",
    "        self.last = first"
   ]
  },
  {
   "cell_type": "markdown",
   "id": "51aeeaf8",
   "metadata": {},
   "source": [
    "# PrecedenceMatrix Class"
   ]
  },
  {
   "cell_type": "code",
   "execution_count": 23,
   "id": "07168a24",
   "metadata": {},
   "outputs": [],
   "source": [
    "class PrecedenceMatrix():\n",
    "    def __init__(self):\n",
    "        self.matrix = []\n",
    "    \n",
    "    def init_matrix(self, grammar):\n",
    "        nodes = (grammar.Vn + grammar.Vt)\n",
    "        nodes.append(\"$\")\n",
    "        mat = np.full((len(nodes), len(nodes)), np.nan)\n",
    "        mat = pd.DataFrame(mat, columns=nodes, index=nodes)\n",
    "        self.matrix = mat\n",
    "        \n",
    "    def comp_matrix(self, grammar, first, last):\n",
    "        self.init_matrix(grammar)\n",
    "        matrix = self.matrix\n",
    "        P = grammar.P\n",
    "        nodes = grammar.Vn + grammar.Vt\n",
    "        nodes.append(\"$\")\n",
    "        \n",
    "        for index in P.keys():\n",
    "            for item in P[index]:\n",
    "                for i in range(len(item) - 1):\n",
    "                    x1, x2 = item[i], item[i + 1]\n",
    "#                     matrix.loc[x1, x2] = \"=\"\n",
    "                    if x2 in grammar.Vn:\n",
    "                        for node in first[x2]:\n",
    "                            matrix.loc[x1, node] = \"<\"\n",
    "                    if x1 in grammar.Vn and x2 in grammar.Vt:\n",
    "                        for node in last[x1]:\n",
    "                            matrix.loc[node, x2] = \">\"\n",
    "                    elif x1 in grammar.Vn and x2 in grammar.Vn:\n",
    "                        for last_y in last[x1]:\n",
    "                            for first_z_vt in [value for value in first[x2] if value in grammar.Vt]:\n",
    "                                matrix.loc[last_y, first_z_vt] = \">\"\n",
    "                    matrix.loc[x1, x2] = \"=\"\n",
    "\n",
    "                            \n",
    "        # deal with $\n",
    "        for x in nodes:\n",
    "            if x in [item for li in first.values() for item in li]:\n",
    "                matrix.loc[\"$\", x] = \"<\"\n",
    "            if x in [item for li in last.values() for item in li]:\n",
    "                matrix.loc[x, \"$\"] = \">\"\n",
    "        \n",
    "        self.matrix = matrix                "
   ]
  },
  {
   "cell_type": "markdown",
   "id": "88029e03",
   "metadata": {},
   "source": [
    "# Parse Class"
   ]
  },
  {
   "cell_type": "code",
   "execution_count": 24,
   "id": "d0ecdbcf",
   "metadata": {},
   "outputs": [],
   "source": [
    "class Parse():\n",
    "    def __init__(self):\n",
    "        pass\n",
    "    \n",
    "    def init_input(self, inp_string, matrix):\n",
    "        inp_string = \"$\" + inp_string + \"$\"\n",
    "        modif_string = \"\"\n",
    "        \n",
    "        for i in range(len(inp_string) - 1):\n",
    "#             print(matrix.loc[inp_string[i], inp_string[i+1]], \" - \", inp_string[i+1])\n",
    "            modif_string += matrix.loc[inp_string[i], inp_string[i+1]] + inp_string[i+1]\n",
    "        return \"$\" + modif_string\n",
    "    \n",
    "    def find_sequence(self, string):\n",
    "        sequence = \"\"\n",
    "        outter_break = False\n",
    "        for i in range(len(string)):\n",
    "            if outter_break:\n",
    "                break\n",
    "            if string[i] == \">\":\n",
    "                for j in range(i, 0, -1):\n",
    "                    if string[j] == \"<\":\n",
    "                        sequence = string[j+1:i]\n",
    "                        outter_break = True\n",
    "                        break\n",
    "        \n",
    "        return re.split(\"=\", sequence), j, i\n",
    "    \n",
    "    def replace_sequence(self, string, sequence, j, i, matrix, grammar):\n",
    "#         print(sequence, string)\n",
    "        P = grammar.P\n",
    "        if \"\".join(sequence) in P[\"S\"] and string[:j] == \"$\" and string[i:] == \"$\":\n",
    "            return \"$<S>$\"        \n",
    "        \n",
    "        if \"\".join(sequence) in [item for li in P.values() for item in li]:\n",
    "            for key in P.keys():\n",
    "                for item in P[key]:\n",
    "                    if \"\".join(sequence) == item:\n",
    "#                         print(string[:j] , matrix.loc[string[j-1], key] , key , matrix.loc[key, string[i]] , string[i:])\n",
    "                        return string[:j] + matrix.loc[string[j-1], key] + key + matrix.loc[key, string[i]] + string[i:]\n",
    "        else:\n",
    "            for column in matrix.columns:\n",
    "                if matrix[string[j-1], column] == \"=\":\n",
    "                    return string[:j] + \"=\" + column + matrix[column, string[i]] + string[i:]\n",
    "        \n",
    "        return \"ERROR\"\n",
    "        \n",
    "    \n",
    "    def parse_input(self, inp_string, matrix, grammar):\n",
    "        new_string = self.init_input(inp_string, matrix)\n",
    "        while True:\n",
    "            seq, j, i = self.find_sequence(new_string)\n",
    "            new_string = self.replace_sequence(new_string, seq, j, i, matrix, grammar)\n",
    "            print(new_string)\n",
    "            if (new_string == \"$<S>$\"):\n",
    "                break\n",
    "            "
   ]
  },
  {
   "cell_type": "markdown",
   "id": "ac7b4752",
   "metadata": {},
   "source": [
    "# Executing Pipeline"
   ]
  },
  {
   "cell_type": "code",
   "execution_count": 25,
   "id": "d54c7359",
   "metadata": {},
   "outputs": [],
   "source": [
    "fl = FirstLast()\n",
    "fl.comp_first(g)\n",
    "fl.comp_last(g)"
   ]
  },
  {
   "cell_type": "code",
   "execution_count": 26,
   "id": "7ce58e05",
   "metadata": {},
   "outputs": [
    {
     "data": {
      "text/plain": [
       "{'S': ['d'], 'B': ['D', 'b'], 'D': ['b'], 'A': ['a']}"
      ]
     },
     "execution_count": 26,
     "metadata": {},
     "output_type": "execute_result"
    }
   ],
   "source": [
    "fl.first"
   ]
  },
  {
   "cell_type": "code",
   "execution_count": 27,
   "id": "6fe3765e",
   "metadata": {},
   "outputs": [
    {
     "data": {
      "text/plain": [
       "{'S': ['B', 'D', 'a', 'A'],\n",
       " 'B': ['B', 'D', 'a', 'A'],\n",
       " 'D': ['a', 'A'],\n",
       " 'A': ['a', 'A']}"
      ]
     },
     "execution_count": 27,
     "metadata": {},
     "output_type": "execute_result"
    }
   ],
   "source": [
    "fl.last"
   ]
  },
  {
   "cell_type": "code",
   "execution_count": 28,
   "id": "8d85bea9",
   "metadata": {},
   "outputs": [],
   "source": [
    "pm = PrecedenceMatrix()\n",
    "pm.comp_matrix(g, fl.first, fl.last)"
   ]
  },
  {
   "cell_type": "code",
   "execution_count": 29,
   "id": "34ab4beb",
   "metadata": {
    "scrolled": true
   },
   "outputs": [
    {
     "data": {
      "text/html": [
       "<div>\n",
       "<style scoped>\n",
       "    .dataframe tbody tr th:only-of-type {\n",
       "        vertical-align: middle;\n",
       "    }\n",
       "\n",
       "    .dataframe tbody tr th {\n",
       "        vertical-align: top;\n",
       "    }\n",
       "\n",
       "    .dataframe thead th {\n",
       "        text-align: right;\n",
       "    }\n",
       "</style>\n",
       "<table border=\"1\" class=\"dataframe\">\n",
       "  <thead>\n",
       "    <tr style=\"text-align: right;\">\n",
       "      <th></th>\n",
       "      <th>S</th>\n",
       "      <th>B</th>\n",
       "      <th>D</th>\n",
       "      <th>A</th>\n",
       "      <th>a</th>\n",
       "      <th>b</th>\n",
       "      <th>c</th>\n",
       "      <th>d</th>\n",
       "      <th>$</th>\n",
       "    </tr>\n",
       "  </thead>\n",
       "  <tbody>\n",
       "    <tr>\n",
       "      <th>S</th>\n",
       "      <td>NaN</td>\n",
       "      <td>NaN</td>\n",
       "      <td>NaN</td>\n",
       "      <td>NaN</td>\n",
       "      <td>NaN</td>\n",
       "      <td>NaN</td>\n",
       "      <td>NaN</td>\n",
       "      <td>NaN</td>\n",
       "      <td>NaN</td>\n",
       "    </tr>\n",
       "    <tr>\n",
       "      <th>B</th>\n",
       "      <td>NaN</td>\n",
       "      <td>NaN</td>\n",
       "      <td>NaN</td>\n",
       "      <td>NaN</td>\n",
       "      <td>NaN</td>\n",
       "      <td>NaN</td>\n",
       "      <td>NaN</td>\n",
       "      <td>NaN</td>\n",
       "      <td>&gt;</td>\n",
       "    </tr>\n",
       "    <tr>\n",
       "      <th>D</th>\n",
       "      <td>NaN</td>\n",
       "      <td>NaN</td>\n",
       "      <td>NaN</td>\n",
       "      <td>NaN</td>\n",
       "      <td>NaN</td>\n",
       "      <td>NaN</td>\n",
       "      <td>=</td>\n",
       "      <td>NaN</td>\n",
       "      <td>&gt;</td>\n",
       "    </tr>\n",
       "    <tr>\n",
       "      <th>A</th>\n",
       "      <td>NaN</td>\n",
       "      <td>NaN</td>\n",
       "      <td>NaN</td>\n",
       "      <td>NaN</td>\n",
       "      <td>NaN</td>\n",
       "      <td>NaN</td>\n",
       "      <td>&gt;</td>\n",
       "      <td>NaN</td>\n",
       "      <td>&gt;</td>\n",
       "    </tr>\n",
       "    <tr>\n",
       "      <th>a</th>\n",
       "      <td>NaN</td>\n",
       "      <td>NaN</td>\n",
       "      <td>NaN</td>\n",
       "      <td>=</td>\n",
       "      <td>&lt;</td>\n",
       "      <td>NaN</td>\n",
       "      <td>&gt;</td>\n",
       "      <td>NaN</td>\n",
       "      <td>&gt;</td>\n",
       "    </tr>\n",
       "    <tr>\n",
       "      <th>b</th>\n",
       "      <td>NaN</td>\n",
       "      <td>NaN</td>\n",
       "      <td>NaN</td>\n",
       "      <td>=</td>\n",
       "      <td>&lt;</td>\n",
       "      <td>NaN</td>\n",
       "      <td>NaN</td>\n",
       "      <td>NaN</td>\n",
       "      <td>NaN</td>\n",
       "    </tr>\n",
       "    <tr>\n",
       "      <th>c</th>\n",
       "      <td>NaN</td>\n",
       "      <td>=</td>\n",
       "      <td>&lt;</td>\n",
       "      <td>NaN</td>\n",
       "      <td>NaN</td>\n",
       "      <td>&lt;</td>\n",
       "      <td>NaN</td>\n",
       "      <td>NaN</td>\n",
       "      <td>NaN</td>\n",
       "    </tr>\n",
       "    <tr>\n",
       "      <th>d</th>\n",
       "      <td>NaN</td>\n",
       "      <td>=</td>\n",
       "      <td>&lt;</td>\n",
       "      <td>NaN</td>\n",
       "      <td>NaN</td>\n",
       "      <td>&lt;</td>\n",
       "      <td>NaN</td>\n",
       "      <td>NaN</td>\n",
       "      <td>NaN</td>\n",
       "    </tr>\n",
       "    <tr>\n",
       "      <th>$</th>\n",
       "      <td>NaN</td>\n",
       "      <td>NaN</td>\n",
       "      <td>&lt;</td>\n",
       "      <td>NaN</td>\n",
       "      <td>&lt;</td>\n",
       "      <td>&lt;</td>\n",
       "      <td>NaN</td>\n",
       "      <td>&lt;</td>\n",
       "      <td>NaN</td>\n",
       "    </tr>\n",
       "  </tbody>\n",
       "</table>\n",
       "</div>"
      ],
      "text/plain": [
       "    S    B    D    A    a    b    c    d    $\n",
       "S NaN  NaN  NaN  NaN  NaN  NaN  NaN  NaN  NaN\n",
       "B NaN  NaN  NaN  NaN  NaN  NaN  NaN  NaN    >\n",
       "D NaN  NaN  NaN  NaN  NaN  NaN    =  NaN    >\n",
       "A NaN  NaN  NaN  NaN  NaN  NaN    >  NaN    >\n",
       "a NaN  NaN  NaN    =    <  NaN    >  NaN    >\n",
       "b NaN  NaN  NaN    =    <  NaN  NaN  NaN  NaN\n",
       "c NaN    =    <  NaN  NaN    <  NaN  NaN  NaN\n",
       "d NaN    =    <  NaN  NaN    <  NaN  NaN  NaN\n",
       "$ NaN  NaN    <  NaN    <    <  NaN    <  NaN"
      ]
     },
     "execution_count": 29,
     "metadata": {},
     "output_type": "execute_result"
    }
   ],
   "source": [
    "pm.matrix"
   ]
  },
  {
   "cell_type": "code",
   "execution_count": 30,
   "id": "b2f1f87f",
   "metadata": {},
   "outputs": [
    {
     "name": "stdout",
     "output_type": "stream",
     "text": [
      "$<d<b=A>c<b<a<a>$\n",
      "$<d<D=c<b<a<a>$\n",
      "$<d<D=c<b<a=A>$\n",
      "$<d<D=c<b=A>$\n",
      "$<d<D=c<D>$\n",
      "$<d<D=c=B>$\n",
      "$<d=B>$\n",
      "$<S>$\n"
     ]
    }
   ],
   "source": [
    "Parse().parse_input(\"dbacbaa\", pm.matrix, g)"
   ]
  },
  {
   "cell_type": "code",
   "execution_count": null,
   "id": "1d67fc2b",
   "metadata": {},
   "outputs": [],
   "source": []
  },
  {
   "cell_type": "code",
   "execution_count": null,
   "id": "dd152ee8",
   "metadata": {},
   "outputs": [],
   "source": []
  }
 ],
 "metadata": {
  "kernelspec": {
   "display_name": "Python 3 (ipykernel)",
   "language": "python",
   "name": "python3"
  },
  "language_info": {
   "codemirror_mode": {
    "name": "ipython",
    "version": 3
   },
   "file_extension": ".py",
   "mimetype": "text/x-python",
   "name": "python",
   "nbconvert_exporter": "python",
   "pygments_lexer": "ipython3",
   "version": "3.8.8"
  }
 },
 "nbformat": 4,
 "nbformat_minor": 5
}
